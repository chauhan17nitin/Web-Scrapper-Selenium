{
 "cells": [
  {
   "cell_type": "code",
   "execution_count": 1,
   "metadata": {
    "ExecuteTime": {
     "end_time": "2020-04-24T09:42:13.897782Z",
     "start_time": "2020-04-24T09:42:07.109527Z"
    }
   },
   "outputs": [],
   "source": [
    "# Import the required libraries\n",
    "from selenium import webdriver\n",
    "import pandas as pd\n",
    "from tqdm import tqdm\n",
    "import numpy as np\n",
    "import os"
   ]
  },
  {
   "cell_type": "code",
   "execution_count": 2,
   "metadata": {
    "ExecuteTime": {
     "end_time": "2020-04-24T09:42:15.542306Z",
     "start_time": "2020-04-24T09:42:13.902697Z"
    }
   },
   "outputs": [],
   "source": [
    "# Start the chrome driver, configuring this on the local requires\n",
    "# some time. See this for installation\n",
    "# Note: this would run chromium not chrome although simply find command to install and run chrome\n",
    "# https://stackoverflow.com/questions/22476112/using-chromedriver-with-selenium-python-ubuntu\n",
    "driver = webdriver.Chrome()"
   ]
  },
  {
   "cell_type": "markdown",
   "metadata": {},
   "source": [
    "# Selenium and driver\n",
    "Using selenium in chrome driver simply means we are going to run the chrome as a user using selenium. So we have functions to click on what we want and go through the browser as a user would. We have the added benefit that we can extract the tables in the webpage using selenium as well. This would be used in out task here.\n",
    "\n",
    "## Steps:\n",
    "1. Get to the main page using link and issueing command driver.get()\n",
    "2. Fill the form. To fill the form you have to click on the radio buttons. We have to this activity through selenium as well. First we have to get that radio button we want to click upon as a selenium element. Use the complete xpath to locate the html element you want to click. To get the complete xpath of any element in the browser follow [this link](https://www.google.com/search?q=how+to+get+complete+xpath+in+chrome&oq=get+complete+xpath+&aqs=chrome.1.69i57j0l2.5527j0j4&sourceid=chrome&ie=UTF-8#kpvalbx=_tauiXvbSGZ6a4-EPwa-FmAc42). Once you have the xpath use the driver.find_element_by_xpath() function which returns the required html element. Once you have the selenium html element, do .click() to click on the radio button.\n",
    "3. Once form is filled by clicking on required radio buttons, use the same technique to get the selenium element of submit button. Then do .click to open the search results.\n",
    "4. Search results generally comprise of different pages, we are going to use the following process to get each page.\n",
    "5. We will extract the entire page table, then we will click on the next page using technique discussed above.\n",
    "6. We iterate this process and append the array in one dataframe, till all the pages are extracted.\n",
    "7. Then we get the data in csv using .to_csv() method in pandas dataframe."
   ]
  },
  {
   "cell_type": "code",
   "execution_count": 3,
   "metadata": {
    "ExecuteTime": {
     "end_time": "2020-04-24T09:42:32.568836Z",
     "start_time": "2020-04-24T09:42:15.543779Z"
    }
   },
   "outputs": [],
   "source": [
    "# To get the main page\n",
    "driver.get('https://pfaf.org/user/Default.aspx')"
   ]
  },
  {
   "cell_type": "code",
   "execution_count": 4,
   "metadata": {
    "ExecuteTime": {
     "end_time": "2020-04-24T09:42:32.617082Z",
     "start_time": "2020-04-24T09:42:32.569971Z"
    }
   },
   "outputs": [],
   "source": [
    "# Get the selenium element to click on the salinity radio button\n",
    "salinity_element = driver.find_element_by_xpath(\"/html/body/form/div[9]/div[2]/table/tbody/tr[52]/td[2]/div/table/tbody/tr/td[6]/input\")"
   ]
  },
  {
   "cell_type": "code",
   "execution_count": 5,
   "metadata": {
    "ExecuteTime": {
     "end_time": "2020-04-24T09:42:37.819794Z",
     "start_time": "2020-04-24T09:42:32.618912Z"
    }
   },
   "outputs": [],
   "source": [
    "# Click on the radio button to select the salinity\n",
    "salinity_element.click()"
   ]
  },
  {
   "cell_type": "code",
   "execution_count": 6,
   "metadata": {
    "ExecuteTime": {
     "end_time": "2020-04-24T09:42:47.820868Z",
     "start_time": "2020-04-24T09:42:37.821202Z"
    }
   },
   "outputs": [],
   "source": [
    "# Get the submit html element and click\n",
    "submit_button = driver.find_element_by_xpath(\"/html/body/form/div[9]/div[3]/input[1]\")\n",
    "submit_button.click()"
   ]
  },
  {
   "cell_type": "code",
   "execution_count": 7,
   "metadata": {
    "ExecuteTime": {
     "end_time": "2020-04-24T09:42:47.829297Z",
     "start_time": "2020-04-24T09:42:47.822616Z"
    }
   },
   "outputs": [],
   "source": [
    "# Function to extract one table fromt the browser\n",
    "def scrap(driver):\n",
    "    table = []\n",
    "    names = driver.find_elements_by_xpath('//tr[@class=\"content\"]')\n",
    "    for i in tqdm(range(len(names))):\n",
    "        if i!=0:\n",
    "            a = names[i].find_elements_by_tag_name('td')\n",
    "        else:\n",
    "            a = names[i].find_elements_by_tag_name('th')\n",
    "        res = []\n",
    "        for i in a:\n",
    "            res.append(i.text)\n",
    "        table.append(res)\n",
    "    return table"
   ]
  },
  {
   "cell_type": "code",
   "execution_count": 8,
   "metadata": {
    "ExecuteTime": {
     "end_time": "2020-04-24T09:43:46.389817Z",
     "start_time": "2020-04-24T09:42:47.832193Z"
    }
   },
   "outputs": [
    {
     "name": "stderr",
     "output_type": "stream",
     "text": [
      "100%|██████████| 101/101 [00:10<00:00,  9.52it/s]\n",
      "100%|██████████| 101/101 [00:10<00:00,  9.42it/s]\n",
      "100%|██████████| 101/101 [00:10<00:00,  9.45it/s]\n",
      "100%|██████████| 101/101 [00:10<00:00,  9.38it/s]\n"
     ]
    }
   ],
   "source": [
    "# Get the tables from each page\n",
    "res = []\n",
    "for i in range(4):\n",
    "    table = scrap(driver)\n",
    "    df_table = pd.DataFrame(table[1:], columns=table[0])\n",
    "    res.append(df_table)\n",
    "    \n",
    "    if i!=3:\n",
    "        next_page = driver.find_element_by_xpath(\"/html/body/form/div[7]/table/tbody/tr[2]/td/div[3]/table/tbody/tr[102]/td/table/tbody/tr/td[\"+str(i+2)+\"]\")\n",
    "        next_page.click()"
   ]
  },
  {
   "cell_type": "code",
   "execution_count": 9,
   "metadata": {
    "ExecuteTime": {
     "end_time": "2020-04-24T09:43:46.398097Z",
     "start_time": "2020-04-24T09:43:46.392443Z"
    }
   },
   "outputs": [],
   "source": [
    "res = pd.concat(res)"
   ]
  },
  {
   "cell_type": "code",
   "execution_count": 10,
   "metadata": {
    "ExecuteTime": {
     "end_time": "2020-04-24T09:43:46.665544Z",
     "start_time": "2020-04-24T09:43:46.399421Z"
    }
   },
   "outputs": [
    {
     "data": {
      "text/html": [
       "<div>\n",
       "<style scoped>\n",
       "    .dataframe tbody tr th:only-of-type {\n",
       "        vertical-align: middle;\n",
       "    }\n",
       "\n",
       "    .dataframe tbody tr th {\n",
       "        vertical-align: top;\n",
       "    }\n",
       "\n",
       "    .dataframe thead th {\n",
       "        text-align: right;\n",
       "    }\n",
       "</style>\n",
       "<table border=\"1\" class=\"dataframe\">\n",
       "  <thead>\n",
       "    <tr style=\"text-align: right;\">\n",
       "      <th></th>\n",
       "      <th>LatinName</th>\n",
       "      <th>CommonName</th>\n",
       "      <th>pH</th>\n",
       "      <th>EdibilityRating</th>\n",
       "      <th>MedicinalRating</th>\n",
       "      <th>OtherUsesRating</th>\n",
       "    </tr>\n",
       "  </thead>\n",
       "  <tbody>\n",
       "    <tr>\n",
       "      <th>0</th>\n",
       "      <td>Acacia auriculiformis</td>\n",
       "      <td>Ear-Pod Wattle, Black Acacia, Earleaf, Black w...</td>\n",
       "      <td>AN</td>\n",
       "      <td>1</td>\n",
       "      <td>0</td>\n",
       "      <td>4</td>\n",
       "    </tr>\n",
       "    <tr>\n",
       "      <th>1</th>\n",
       "      <td>Acacia farnesiana</td>\n",
       "      <td>Sweet Acacia, Perfume Acacia, Huisache</td>\n",
       "      <td>ANB</td>\n",
       "      <td>2</td>\n",
       "      <td>2</td>\n",
       "      <td></td>\n",
       "    </tr>\n",
       "    <tr>\n",
       "      <th>2</th>\n",
       "      <td>Acacia longifolia</td>\n",
       "      <td>Sydney Golden Wattle, Acacia</td>\n",
       "      <td>ANB</td>\n",
       "      <td>3</td>\n",
       "      <td>0</td>\n",
       "      <td></td>\n",
       "    </tr>\n",
       "    <tr>\n",
       "      <th>3</th>\n",
       "      <td>Acacia mucronata</td>\n",
       "      <td>Narrow-Leaf Wattle</td>\n",
       "      <td>ANB</td>\n",
       "      <td>2</td>\n",
       "      <td>0</td>\n",
       "      <td></td>\n",
       "    </tr>\n",
       "    <tr>\n",
       "      <th>4</th>\n",
       "      <td>Acacia retinodes</td>\n",
       "      <td>Swamp Wattle, Water wattle</td>\n",
       "      <td>ANB</td>\n",
       "      <td>2</td>\n",
       "      <td>0</td>\n",
       "      <td></td>\n",
       "    </tr>\n",
       "    <tr>\n",
       "      <th>...</th>\n",
       "      <td>...</td>\n",
       "      <td>...</td>\n",
       "      <td>...</td>\n",
       "      <td>...</td>\n",
       "      <td>...</td>\n",
       "      <td>...</td>\n",
       "    </tr>\n",
       "    <tr>\n",
       "      <th>95</th>\n",
       "      <td>Caesalpinia echinata</td>\n",
       "      <td>Pau Brasil, Brazil Wood, Indian Savin</td>\n",
       "      <td>NB</td>\n",
       "      <td>0</td>\n",
       "      <td>2</td>\n",
       "      <td>4</td>\n",
       "    </tr>\n",
       "    <tr>\n",
       "      <th>96</th>\n",
       "      <td>Calandrinia balonensis</td>\n",
       "      <td></td>\n",
       "      <td>ANB</td>\n",
       "      <td>2</td>\n",
       "      <td>0</td>\n",
       "      <td></td>\n",
       "    </tr>\n",
       "    <tr>\n",
       "      <th>97</th>\n",
       "      <td>Calandrinia polyandra</td>\n",
       "      <td>Parakeelya</td>\n",
       "      <td>ANB</td>\n",
       "      <td>2</td>\n",
       "      <td>0</td>\n",
       "      <td></td>\n",
       "    </tr>\n",
       "    <tr>\n",
       "      <th>98</th>\n",
       "      <td>Calandrinia remota</td>\n",
       "      <td></td>\n",
       "      <td>ANB</td>\n",
       "      <td>2</td>\n",
       "      <td>0</td>\n",
       "      <td></td>\n",
       "    </tr>\n",
       "    <tr>\n",
       "      <th>99</th>\n",
       "      <td>Callitris columellaris</td>\n",
       "      <td>White Cypress-Pine</td>\n",
       "      <td>ANB</td>\n",
       "      <td>0</td>\n",
       "      <td>0</td>\n",
       "      <td></td>\n",
       "    </tr>\n",
       "  </tbody>\n",
       "</table>\n",
       "<p>400 rows × 6 columns</p>\n",
       "</div>"
      ],
      "text/plain": [
       "                 LatinName                                         CommonName  \\\n",
       "0    Acacia auriculiformis  Ear-Pod Wattle, Black Acacia, Earleaf, Black w...   \n",
       "1        Acacia farnesiana             Sweet Acacia, Perfume Acacia, Huisache   \n",
       "2        Acacia longifolia                       Sydney Golden Wattle, Acacia   \n",
       "3         Acacia mucronata                                 Narrow-Leaf Wattle   \n",
       "4         Acacia retinodes                         Swamp Wattle, Water wattle   \n",
       "..                     ...                                                ...   \n",
       "95    Caesalpinia echinata              Pau Brasil, Brazil Wood, Indian Savin   \n",
       "96  Calandrinia balonensis                                                      \n",
       "97   Calandrinia polyandra                                         Parakeelya   \n",
       "98      Calandrinia remota                                                      \n",
       "99  Callitris columellaris                                 White Cypress-Pine   \n",
       "\n",
       "     pH EdibilityRating MedicinalRating OtherUsesRating  \n",
       "0    AN               1               0               4  \n",
       "1   ANB               2               2                  \n",
       "2   ANB               3               0                  \n",
       "3   ANB               2               0                  \n",
       "4   ANB               2               0                  \n",
       "..  ...             ...             ...             ...  \n",
       "95   NB               0               2               4  \n",
       "96  ANB               2               0                  \n",
       "97  ANB               2               0                  \n",
       "98  ANB               2               0                  \n",
       "99  ANB               0               0                  \n",
       "\n",
       "[400 rows x 6 columns]"
      ]
     },
     "execution_count": 10,
     "metadata": {},
     "output_type": "execute_result"
    }
   ],
   "source": [
    "res"
   ]
  },
  {
   "cell_type": "code",
   "execution_count": 11,
   "metadata": {
    "ExecuteTime": {
     "end_time": "2020-04-24T09:43:46.756246Z",
     "start_time": "2020-04-24T09:43:46.668998Z"
    }
   },
   "outputs": [],
   "source": [
    "# Save the dataframe as csv\n",
    "res.to_csv(\"salinity.csv\")"
   ]
  },
  {
   "cell_type": "code",
   "execution_count": 12,
   "metadata": {
    "ExecuteTime": {
     "end_time": "2020-04-24T09:43:47.180900Z",
     "start_time": "2020-04-24T09:43:46.757491Z"
    }
   },
   "outputs": [],
   "source": [
    "# close the driver\n",
    "driver.close()"
   ]
  },
  {
   "cell_type": "code",
   "execution_count": null,
   "metadata": {},
   "outputs": [],
   "source": []
  }
 ],
 "metadata": {
  "kernelspec": {
   "display_name": "Python 3",
   "language": "python",
   "name": "python3"
  },
  "language_info": {
   "codemirror_mode": {
    "name": "ipython",
    "version": 3
   },
   "file_extension": ".py",
   "mimetype": "text/x-python",
   "name": "python",
   "nbconvert_exporter": "python",
   "pygments_lexer": "ipython3",
   "version": "3.7.4"
  }
 },
 "nbformat": 4,
 "nbformat_minor": 2
}
