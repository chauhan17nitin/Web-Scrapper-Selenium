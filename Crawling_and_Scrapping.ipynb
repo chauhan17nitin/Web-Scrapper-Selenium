{
 "cells": [
  {
   "cell_type": "code",
   "execution_count": 1,
   "metadata": {},
   "outputs": [],
   "source": [
    "from selenium import webdriver"
   ]
  },
  {
   "cell_type": "code",
   "execution_count": 2,
   "metadata": {},
   "outputs": [],
   "source": [
    "driver = webdriver.Chrome()"
   ]
  },
  {
   "cell_type": "code",
   "execution_count": 35,
   "metadata": {},
   "outputs": [],
   "source": [
    "link = \"https://plants.usda.gov/adv_search.html\"\n",
    "driver.get(link)"
   ]
  },
  {
   "cell_type": "markdown",
   "metadata": {},
   "source": [
    " Working with the Part A characterstics\n"
   ]
  },
  {
   "cell_type": "code",
   "execution_count": 39,
   "metadata": {},
   "outputs": [],
   "source": [
    "# Working with different checkboxes to search for the relevant data first\n",
    "driver.find_element_by_id(\"dsp_pfa\").click()\n",
    "driver.find_element_by_name(\"dsp_statefips\").click()"
   ]
  },
  {
   "cell_type": "code",
   "execution_count": 40,
   "metadata": {},
   "outputs": [],
   "source": [
    "driver.find_element_by_name(\"dsp_category\").click()\n",
    "driver.find_element_by_name(\"dsp_dur\").click()\n",
    "driver.find_element_by_name(\"dsp_grwhabt\").click()\n",
    "driver.find_element_by_name(\"dsp_nativestatuscode\").click()"
   ]
  },
  {
   "cell_type": "markdown",
   "metadata": {},
   "source": [
    "Working with Part B characteristics"
   ]
  },
  {
   "cell_type": "code",
   "execution_count": 41,
   "metadata": {},
   "outputs": [],
   "source": [
    "driver.find_element_by_name(\"dsp_grwth_prd_actv_cd\").click()\n",
    "driver.find_element_by_name(\"dsp_rgrwth_rate_cd\").click()\n",
    "driver.find_element_by_name(\"dsp_bloom_prd_cd\").click()\n"
   ]
  },
  {
   "cell_type": "code",
   "execution_count": 42,
   "metadata": {},
   "outputs": [],
   "source": [
    "element = driver.find_element_by_xpath('//*[@title=\"Display Results\"]')"
   ]
  },
  {
   "cell_type": "code",
   "execution_count": 86,
   "metadata": {},
   "outputs": [],
   "source": [
    "# print(element.get_attribute('src'))\n",
    "element.submit()"
   ]
  },
  {
   "cell_type": "code",
   "execution_count": 75,
   "metadata": {},
   "outputs": [],
   "source": [
    "rows = len(driver.find_elements_by_xpath(\"/html/body/table/tbody/tr[5]/td/table/tbody/tr/td[4]/table/tbody/tr[3]/td/table/tbody/tr\"))"
   ]
  },
  {
   "cell_type": "code",
   "execution_count": 76,
   "metadata": {},
   "outputs": [],
   "source": [
    "cols = len(driver.find_elements_by_xpath(\"/html/body/table/tbody/tr[5]/td/table/tbody/tr/td[4]/table/tbody/tr[3]/td/table/tbody/tr[1]/th\"))"
   ]
  },
  {
   "cell_type": "code",
   "execution_count": 87,
   "metadata": {
    "scrolled": true
   },
   "outputs": [],
   "source": [
    "main_list = []\n",
    "for r in range(2, rows+1):\n",
    "    row_list = []\n",
    "    for c in range(1, cols+1):\n",
    "        value = driver.find_element_by_xpath(\"/html/body/table/tbody/tr[5]/td/table/tbody/tr/td[4]/table/tbody/tr[3]/td/table/tbody/tr[\"+str(r)+\"]/td[\"+str(c)+\"]\").text\n",
    "        row_list.append(value)\n",
    "    main_list.append(row_list)\n"
   ]
  },
  {
   "cell_type": "code",
   "execution_count": 81,
   "metadata": {},
   "outputs": [
    {
     "data": {
      "text/plain": [
       "6400"
      ]
     },
     "execution_count": 81,
     "metadata": {},
     "output_type": "execute_result"
    }
   ],
   "source": [
    "len(main_list)"
   ]
  },
  {
   "cell_type": "code",
   "execution_count": 82,
   "metadata": {},
   "outputs": [],
   "source": [
    "headers = []\n",
    "for c in range(1,11):\n",
    "        value = driver.find_element_by_xpath(\"/html/body/table/tbody/tr[5]/td/table/tbody/tr/td[4]/table/tbody/tr[3]/td/table/tbody/tr[1]/th[\"+str(c)+\"]\").text\n",
    "        headers.append(value)"
   ]
  },
  {
   "cell_type": "code",
   "execution_count": 78,
   "metadata": {},
   "outputs": [
    {
     "data": {
      "text/plain": [
       "['Scientific Name                              ',\n",
       " 'PLANTS Floristic Area',\n",
       " 'State and Province',\n",
       " 'Category',\n",
       " 'Duration',\n",
       " 'Growth Habit',\n",
       " 'Native Status',\n",
       " 'Active Growth Period',\n",
       " 'After Harvest Regrowth Rate',\n",
       " 'Bloom Period']"
      ]
     },
     "execution_count": 78,
     "metadata": {},
     "output_type": "execute_result"
    }
   ],
   "source": [
    "headers"
   ]
  },
  {
   "cell_type": "code",
   "execution_count": 83,
   "metadata": {},
   "outputs": [
    {
     "data": {
      "text/html": [
       "<div>\n",
       "<style scoped>\n",
       "    .dataframe tbody tr th:only-of-type {\n",
       "        vertical-align: middle;\n",
       "    }\n",
       "\n",
       "    .dataframe tbody tr th {\n",
       "        vertical-align: top;\n",
       "    }\n",
       "\n",
       "    .dataframe thead th {\n",
       "        text-align: right;\n",
       "    }\n",
       "</style>\n",
       "<table border=\"1\" class=\"dataframe\">\n",
       "  <thead>\n",
       "    <tr style=\"text-align: right;\">\n",
       "      <th></th>\n",
       "      <th>Scientific Name</th>\n",
       "      <th>PLANTS Floristic Area</th>\n",
       "      <th>State and Province</th>\n",
       "      <th>Category</th>\n",
       "      <th>Duration</th>\n",
       "      <th>Growth Habit</th>\n",
       "      <th>Native Status</th>\n",
       "      <th>Active Growth Period</th>\n",
       "      <th>After Harvest Regrowth Rate</th>\n",
       "      <th>Bloom Period</th>\n",
       "    </tr>\n",
       "  </thead>\n",
       "  <tbody>\n",
       "    <tr>\n",
       "      <th>0</th>\n",
       "      <td>Abelia</td>\n",
       "      <td>NA (L48)</td>\n",
       "      <td>USA(FL, NC)</td>\n",
       "      <td>Dicot</td>\n",
       "      <td></td>\n",
       "      <td></td>\n",
       "      <td>L48(I)</td>\n",
       "      <td></td>\n",
       "      <td></td>\n",
       "      <td></td>\n",
       "    </tr>\n",
       "    <tr>\n",
       "      <th>1</th>\n",
       "      <td>Abelia ×grandiflora</td>\n",
       "      <td>NA (L48)</td>\n",
       "      <td>USA(FL, NC)</td>\n",
       "      <td>Dicot</td>\n",
       "      <td>Perennial</td>\n",
       "      <td>Shrub</td>\n",
       "      <td>L48(I)</td>\n",
       "      <td>Spring, Summer, Fall</td>\n",
       "      <td></td>\n",
       "      <td>Late Summer</td>\n",
       "    </tr>\n",
       "    <tr>\n",
       "      <th>2</th>\n",
       "      <td>Abelmoschus</td>\n",
       "      <td>NA (L48, PB)</td>\n",
       "      <td>USA+(PR, VI), USA(CT, DC, FL, HI, IL, KY, LA, ...</td>\n",
       "      <td>Dicot</td>\n",
       "      <td></td>\n",
       "      <td></td>\n",
       "      <td>L48(I)</td>\n",
       "      <td></td>\n",
       "      <td></td>\n",
       "      <td></td>\n",
       "    </tr>\n",
       "    <tr>\n",
       "      <th>3</th>\n",
       "      <td>Abelmoschus esculentus</td>\n",
       "      <td>NA (L48, GU, PB), PR, VI</td>\n",
       "      <td>USA+(PR, VI), USA(CT, DC, FL, IL, KY, LA, MD, ...</td>\n",
       "      <td>Dicot</td>\n",
       "      <td>Annual, Perennial</td>\n",
       "      <td>Subshrub, Forb/herb</td>\n",
       "      <td>L48(I)PR(I)VI(I)</td>\n",
       "      <td></td>\n",
       "      <td></td>\n",
       "      <td></td>\n",
       "    </tr>\n",
       "    <tr>\n",
       "      <th>4</th>\n",
       "      <td>Abelmoschus manihot</td>\n",
       "      <td></td>\n",
       "      <td>USA(PW)</td>\n",
       "      <td>Dicot</td>\n",
       "      <td></td>\n",
       "      <td></td>\n",
       "      <td>L48(I)</td>\n",
       "      <td></td>\n",
       "      <td></td>\n",
       "      <td></td>\n",
       "    </tr>\n",
       "  </tbody>\n",
       "</table>\n",
       "</div>"
      ],
      "text/plain": [
       "  Scientific Name                                   PLANTS Floristic Area  \\\n",
       "0                                        Abelia                  NA (L48)   \n",
       "1                           Abelia ×grandiflora                  NA (L48)   \n",
       "2                                   Abelmoschus              NA (L48, PB)   \n",
       "3                        Abelmoschus esculentus  NA (L48, GU, PB), PR, VI   \n",
       "4                           Abelmoschus manihot                             \n",
       "\n",
       "                                  State and Province Category  \\\n",
       "0                                        USA(FL, NC)    Dicot   \n",
       "1                                        USA(FL, NC)    Dicot   \n",
       "2  USA+(PR, VI), USA(CT, DC, FL, HI, IL, KY, LA, ...    Dicot   \n",
       "3  USA+(PR, VI), USA(CT, DC, FL, IL, KY, LA, MD, ...    Dicot   \n",
       "4                                            USA(PW)    Dicot   \n",
       "\n",
       "            Duration         Growth Habit     Native Status  \\\n",
       "0                                                    L48(I)   \n",
       "1          Perennial                Shrub            L48(I)   \n",
       "2                                                    L48(I)   \n",
       "3  Annual, Perennial  Subshrub, Forb/herb  L48(I)PR(I)VI(I)   \n",
       "4                                                    L48(I)   \n",
       "\n",
       "   Active Growth Period After Harvest Regrowth Rate Bloom Period  \n",
       "0                                                                 \n",
       "1  Spring, Summer, Fall                              Late Summer  \n",
       "2                                                                 \n",
       "3                                                                 \n",
       "4                                                                 "
      ]
     },
     "execution_count": 83,
     "metadata": {},
     "output_type": "execute_result"
    }
   ],
   "source": [
    "import pandas as pd\n",
    "df = pd.DataFrame(main_list, columns = headers)\n",
    "df.head()"
   ]
  },
  {
   "cell_type": "code",
   "execution_count": 84,
   "metadata": {},
   "outputs": [
    {
     "data": {
      "text/plain": [
       "(6400, 10)"
      ]
     },
     "execution_count": 84,
     "metadata": {},
     "output_type": "execute_result"
    }
   ],
   "source": [
    "df.shape"
   ]
  },
  {
   "cell_type": "code",
   "execution_count": 85,
   "metadata": {},
   "outputs": [],
   "source": [
    "df.to_csv('plant_data.csv', index = False)"
   ]
  }
 ],
 "metadata": {
  "kernelspec": {
   "display_name": "Python 3",
   "language": "python",
   "name": "python3"
  },
  "language_info": {
   "codemirror_mode": {
    "name": "ipython",
    "version": 3
   },
   "file_extension": ".py",
   "mimetype": "text/x-python",
   "name": "python",
   "nbconvert_exporter": "python",
   "pygments_lexer": "ipython3",
   "version": "3.6.8"
  }
 },
 "nbformat": 4,
 "nbformat_minor": 2
}
