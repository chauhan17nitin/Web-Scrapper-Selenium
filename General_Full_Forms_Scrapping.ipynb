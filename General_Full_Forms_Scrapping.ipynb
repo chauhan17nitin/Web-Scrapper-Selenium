{
 "cells": [
  {
   "cell_type": "code",
   "execution_count": 1,
   "metadata": {},
   "outputs": [],
   "source": [
    "from selenium import webdriver\n",
    "import pandas as pd"
   ]
  },
  {
   "cell_type": "code",
   "execution_count": 2,
   "metadata": {},
   "outputs": [],
   "source": [
    "driver = webdriver.Chrome()"
   ]
  },
  {
   "cell_type": "code",
   "execution_count": 3,
   "metadata": {},
   "outputs": [],
   "source": [
    "link = \"https://plants.usda.gov/about_adv_search.html\""
   ]
  },
  {
   "cell_type": "code",
   "execution_count": 4,
   "metadata": {},
   "outputs": [],
   "source": [
    "driver.get(link)"
   ]
  },
  {
   "cell_type": "code",
   "execution_count": 5,
   "metadata": {},
   "outputs": [],
   "source": [
    "rows = len(driver.find_elements_by_xpath(\"/html/body/table/tbody/tr[5]/td/table/tbody/tr/td[4]/table/tbody/tr[3]/td[1]/table/tbody/tr[4]/td[2]/table/tbody/tr\"))\n",
    "cols = len(driver.find_elements_by_xpath(\"/html/body/table/tbody/tr[5]/td/table/tbody/tr/td[4]/table/tbody/tr[3]/td[1]/table/tbody/tr[4]/td[2]/table/tbody/tr[2]/td\"))\n"
   ]
  },
  {
   "cell_type": "code",
   "execution_count": 6,
   "metadata": {},
   "outputs": [
    {
     "name": "stdout",
     "output_type": "stream",
     "text": [
      "12 2\n"
     ]
    }
   ],
   "source": [
    "print(rows, cols)"
   ]
  },
  {
   "cell_type": "code",
   "execution_count": 7,
   "metadata": {},
   "outputs": [],
   "source": [
    "main_list = []\n",
    "for r in range(2, rows+1):\n",
    "    row_list = []\n",
    "    for c in range(1, cols+1):\n",
    "        value = driver.find_element_by_xpath(\"/html/body/table/tbody/tr[5]/td/table/tbody/tr/td[4]/table/tbody/tr[3]/td[1]/table/tbody/tr[4]/td[2]/table/tbody/tr[\"+str(r)+\"]/td[\"+str(c)+\"]\").text\n",
    "        row_list.append(value)\n",
    "    main_list.append(row_list)"
   ]
  },
  {
   "cell_type": "code",
   "execution_count": 10,
   "metadata": {},
   "outputs": [],
   "source": [
    "headers = []\n",
    "for c in range(1, cols+1):\n",
    "    value = driver.find_element_by_xpath(\"/html/body/table/tbody/tr[5]/td/table/tbody/tr/td[4]/table/tbody/tr[3]/td[1]/table/tbody/tr[4]/td[2]/table/tbody/tr[1]/th[\"+str(c)+\"]\").text\n",
    "    headers.append(value)\n"
   ]
  },
  {
   "cell_type": "code",
   "execution_count": 12,
   "metadata": {},
   "outputs": [],
   "source": [
    "PFA_sub_area_code = pd.DataFrame(main_list, columns = headers)"
   ]
  },
  {
   "cell_type": "code",
   "execution_count": 14,
   "metadata": {},
   "outputs": [
    {
     "data": {
      "text/html": [
       "<div>\n",
       "<style scoped>\n",
       "    .dataframe tbody tr th:only-of-type {\n",
       "        vertical-align: middle;\n",
       "    }\n",
       "\n",
       "    .dataframe tbody tr th {\n",
       "        vertical-align: top;\n",
       "    }\n",
       "\n",
       "    .dataframe thead th {\n",
       "        text-align: right;\n",
       "    }\n",
       "</style>\n",
       "<table border=\"1\" class=\"dataframe\">\n",
       "  <thead>\n",
       "    <tr style=\"text-align: right;\">\n",
       "      <th></th>\n",
       "      <th>PFA Sub-Area Code</th>\n",
       "      <th>Description</th>\n",
       "    </tr>\n",
       "  </thead>\n",
       "  <tbody>\n",
       "    <tr>\n",
       "      <th>0</th>\n",
       "      <td>AK</td>\n",
       "      <td>Alaska</td>\n",
       "    </tr>\n",
       "    <tr>\n",
       "      <th>1</th>\n",
       "      <td>CAN</td>\n",
       "      <td>Canada</td>\n",
       "    </tr>\n",
       "    <tr>\n",
       "      <th>2</th>\n",
       "      <td>GL</td>\n",
       "      <td>Greenland (Denmark)</td>\n",
       "    </tr>\n",
       "    <tr>\n",
       "      <th>3</th>\n",
       "      <td>HI</td>\n",
       "      <td>Hawaii</td>\n",
       "    </tr>\n",
       "    <tr>\n",
       "      <th>4</th>\n",
       "      <td>L48</td>\n",
       "      <td>Lower 48 States</td>\n",
       "    </tr>\n",
       "  </tbody>\n",
       "</table>\n",
       "</div>"
      ],
      "text/plain": [
       "  PFA Sub-Area Code          Description\n",
       "0                AK               Alaska\n",
       "1               CAN               Canada\n",
       "2                GL  Greenland (Denmark)\n",
       "3                HI               Hawaii\n",
       "4               L48      Lower 48 States"
      ]
     },
     "execution_count": 14,
     "metadata": {},
     "output_type": "execute_result"
    }
   ],
   "source": [
    "PFA_sub_area_code.head()"
   ]
  },
  {
   "cell_type": "code",
   "execution_count": 15,
   "metadata": {},
   "outputs": [],
   "source": [
    "PFA_sub_area_code.to_csv('PFA_sub_area_code.csv', index = False)"
   ]
  },
  {
   "cell_type": "raw",
   "metadata": {},
   "source": [
    "Extracting Postal Codes with respect to Countries"
   ]
  },
  {
   "cell_type": "code",
   "execution_count": null,
   "metadata": {},
   "outputs": [],
   "source": [
    "/html/body/table/tbody/tr[5]/td/table/tbody/tr/td[4]/table/tbody/tr[3]/td[1]/table/tbody/tr[5]/td[2]/table/tbody/tr[54]\n"
   ]
  },
  {
   "cell_type": "code",
   "execution_count": 16,
   "metadata": {},
   "outputs": [],
   "source": [
    "rows = len(driver.find_elements_by_xpath(\"/html/body/table/tbody/tr[5]/td/table/tbody/tr/td[4]/table/tbody/tr[3]/td[1]/table/tbody/tr[5]/td[2]/table/tbody/tr\"))\n",
    "cols = len(driver.find_elements_by_xpath(\"/html/body/table/tbody/tr[5]/td/table/tbody/tr/td[4]/table/tbody/tr[3]/td[1]/table/tbody/tr[5]/td[2]/table/tbody/tr[2]/td\"))"
   ]
  },
  {
   "cell_type": "code",
   "execution_count": 17,
   "metadata": {},
   "outputs": [
    {
     "name": "stdout",
     "output_type": "stream",
     "text": [
      "77 2\n"
     ]
    }
   ],
   "source": [
    "print(rows, cols)"
   ]
  },
  {
   "cell_type": "code",
   "execution_count": 20,
   "metadata": {},
   "outputs": [],
   "source": [
    "main_list = []\n",
    "for r in range(2, rows+1):\n",
    "    row_list = []\n",
    "    for c in range(1, cols+1):\n",
    "        try:\n",
    "            value = driver.find_element_by_xpath(\"/html/body/table/tbody/tr[5]/td/table/tbody/tr/td[4]/table/tbody/tr[3]/td[1]/table/tbody/tr[5]/td[2]/table/tbody/tr[\"+str(r)+\"]/td[\"+str(c)+\"]\").text\n",
    "            row_list.append(value)\n",
    "        except:\n",
    "            value = driver.find_element_by_xpath(\"/html/body/table/tbody/tr[5]/td/table/tbody/tr/td[4]/table/tbody/tr[3]/td[1]/table/tbody/tr[5]/td[2]/table/tbody/tr[\"+str(r)+\"]/th[\"+str(c)+\"]\").text\n",
    "            main_list.append(['', ''])\n",
    "            row_list.append(value)\n",
    "            pass\n",
    "    main_list.append(row_list)"
   ]
  },
  {
   "cell_type": "code",
   "execution_count": 21,
   "metadata": {},
   "outputs": [
    {
     "data": {
      "text/plain": [
       "[['USA', 'U.S. States'],\n",
       " ['AL', 'Alabama'],\n",
       " ['AK', 'Alaska'],\n",
       " ['AZ', 'Arizona'],\n",
       " ['AR', 'Arkansas'],\n",
       " ['CA', 'California'],\n",
       " ['CO', 'Colorado'],\n",
       " ['CT', 'Connecticut'],\n",
       " ['DE', 'Delaware'],\n",
       " ['DC', 'District of Columbia'],\n",
       " ['FL', 'Florida'],\n",
       " ['GA', 'Georgia'],\n",
       " ['HI', 'Hawaii'],\n",
       " ['ID', 'Idaho'],\n",
       " ['IL', 'Illinois'],\n",
       " ['IN', 'Indiana'],\n",
       " ['IA', 'Iowa'],\n",
       " ['KS', 'Kansas'],\n",
       " ['KY', 'Kentucky'],\n",
       " ['LA', 'Louisiana'],\n",
       " ['ME', 'Maine'],\n",
       " ['MD', 'Maryland'],\n",
       " ['MA', 'Massachusetts'],\n",
       " ['MI', 'Michigan'],\n",
       " ['MN', 'Minnesota'],\n",
       " ['MS', 'Mississippi'],\n",
       " ['MO', 'Missouri'],\n",
       " ['MT', 'Montana'],\n",
       " ['NE', 'Nebraska'],\n",
       " ['NV', 'Nevada'],\n",
       " ['NH', 'New Hampshire'],\n",
       " ['NJ', 'New Jersey'],\n",
       " ['NM', 'New Mexico'],\n",
       " ['NY', 'New York'],\n",
       " ['NC', 'North Carolina'],\n",
       " ['ND', 'North Dakota'],\n",
       " ['OH', 'Ohio'],\n",
       " ['OK', 'Oklahoma'],\n",
       " ['OR', 'Oregon'],\n",
       " ['PA', 'Pennsylvania'],\n",
       " ['RI', 'Rhode Island'],\n",
       " ['SC', 'South Carolina'],\n",
       " ['SD', 'South Dakota'],\n",
       " ['TN', 'Tennessee'],\n",
       " ['TX', 'Texas'],\n",
       " ['UT', 'Utah'],\n",
       " ['VT', 'Vermont'],\n",
       " ['VA', 'Virginia'],\n",
       " ['WA', 'Washington'],\n",
       " ['WV', 'West Virginia'],\n",
       " ['WI', 'Wisconsin'],\n",
       " ['WY', 'Wyoming'],\n",
       " ['', ''],\n",
       " ['', ''],\n",
       " ['USA+', 'U.S. Territories and Protectorates'],\n",
       " ['NAV',\n",
       "  'Navassa Island (the sole Caribbean member of the U.S. Minor Outlying Islands)'],\n",
       " ['PR', 'Puerto Rico'],\n",
       " ['VI', 'Virgin Islands'],\n",
       " ['', ''],\n",
       " ['', ''],\n",
       " ['CAN', 'Canada Provinces and Territories'],\n",
       " ['AB', 'Alberta'],\n",
       " ['BC', 'British Columbia'],\n",
       " ['MB', 'Manitoba'],\n",
       " ['NB', 'New Brunswick'],\n",
       " [' ', 'Newfoundland and Labrador'],\n",
       " ['LB', '    Labrador'],\n",
       " ['NF', '    Newfoundland'],\n",
       " ['NT', 'Northwest Territories'],\n",
       " ['NS', 'Nova Scotia'],\n",
       " ['NU', 'Nunavut'],\n",
       " ['ON', 'Ontario'],\n",
       " ['PE', 'Prince Edward Island'],\n",
       " ['QC', 'Québec'],\n",
       " ['SK', 'Saskatchewan'],\n",
       " ['YT', 'Yukon'],\n",
       " ['', ''],\n",
       " ['', ''],\n",
       " ['DEN', 'Denmark'],\n",
       " ['GL', 'Greenland'],\n",
       " ['', ''],\n",
       " ['', ''],\n",
       " ['FRA', 'France'],\n",
       " ['SPM', 'St. Pierre and Miquelon']]"
      ]
     },
     "execution_count": 21,
     "metadata": {},
     "output_type": "execute_result"
    }
   ],
   "source": [
    "main_list"
   ]
  },
  {
   "cell_type": "code",
   "execution_count": 22,
   "metadata": {},
   "outputs": [],
   "source": [
    "headers = []\n",
    "for c in range(1, cols+1):\n",
    "    value = driver.find_element_by_xpath(\"/html/body/table/tbody/tr[5]/td/table/tbody/tr/td[4]/table/tbody/tr[3]/td[1]/table/tbody/tr[5]/td[2]/table/tbody/tr[1]/th[\"+str(c)+\"]\").text\n",
    "    headers.append(value)"
   ]
  },
  {
   "cell_type": "code",
   "execution_count": 23,
   "metadata": {},
   "outputs": [
    {
     "data": {
      "text/plain": [
       "['Postal Code', 'Country']"
      ]
     },
     "execution_count": 23,
     "metadata": {},
     "output_type": "execute_result"
    }
   ],
   "source": [
    "headers"
   ]
  },
  {
   "cell_type": "code",
   "execution_count": 24,
   "metadata": {},
   "outputs": [
    {
     "data": {
      "text/html": [
       "<div>\n",
       "<style scoped>\n",
       "    .dataframe tbody tr th:only-of-type {\n",
       "        vertical-align: middle;\n",
       "    }\n",
       "\n",
       "    .dataframe tbody tr th {\n",
       "        vertical-align: top;\n",
       "    }\n",
       "\n",
       "    .dataframe thead th {\n",
       "        text-align: right;\n",
       "    }\n",
       "</style>\n",
       "<table border=\"1\" class=\"dataframe\">\n",
       "  <thead>\n",
       "    <tr style=\"text-align: right;\">\n",
       "      <th></th>\n",
       "      <th>Postal Code</th>\n",
       "      <th>Country</th>\n",
       "    </tr>\n",
       "  </thead>\n",
       "  <tbody>\n",
       "    <tr>\n",
       "      <th>0</th>\n",
       "      <td>USA</td>\n",
       "      <td>U.S. States</td>\n",
       "    </tr>\n",
       "    <tr>\n",
       "      <th>1</th>\n",
       "      <td>AL</td>\n",
       "      <td>Alabama</td>\n",
       "    </tr>\n",
       "    <tr>\n",
       "      <th>2</th>\n",
       "      <td>AK</td>\n",
       "      <td>Alaska</td>\n",
       "    </tr>\n",
       "    <tr>\n",
       "      <th>3</th>\n",
       "      <td>AZ</td>\n",
       "      <td>Arizona</td>\n",
       "    </tr>\n",
       "    <tr>\n",
       "      <th>4</th>\n",
       "      <td>AR</td>\n",
       "      <td>Arkansas</td>\n",
       "    </tr>\n",
       "  </tbody>\n",
       "</table>\n",
       "</div>"
      ],
      "text/plain": [
       "  Postal Code      Country\n",
       "0         USA  U.S. States\n",
       "1          AL      Alabama\n",
       "2          AK       Alaska\n",
       "3          AZ      Arizona\n",
       "4          AR     Arkansas"
      ]
     },
     "execution_count": 24,
     "metadata": {},
     "output_type": "execute_result"
    }
   ],
   "source": [
    "Postal_codes = pd.DataFrame(main_list, columns = headers)\n",
    "Postal_codes.head()"
   ]
  },
  {
   "cell_type": "code",
   "execution_count": 25,
   "metadata": {},
   "outputs": [],
   "source": [
    "Postal_codes.to_csv('Postal_codes.csv', index = False)"
   ]
  },
  {
   "cell_type": "raw",
   "metadata": {},
   "source": [
    "Scrapping the codes used for Native Jurisdiction"
   ]
  },
  {
   "cell_type": "code",
   "execution_count": null,
   "metadata": {},
   "outputs": [],
   "source": [
    "/html/body/table/tbody/tr[5]/td/table/tbody/tr/td[4]/table/tbody/tr[3]/td[1]/table/tbody/tr[31]/td[2]/table[1]/tbody/tr[1]"
   ]
  },
  {
   "cell_type": "code",
   "execution_count": 27,
   "metadata": {},
   "outputs": [],
   "source": [
    "rows = len(driver.find_elements_by_xpath(\"/html/body/table/tbody/tr[5]/td/table/tbody/tr/td[4]/table/tbody/tr[3]/td[1]/table/tbody/tr[31]/td[2]/table[1]/tbody/tr\"))\n",
    "cols = len(driver.find_elements_by_xpath(\"/html/body/table/tbody/tr[5]/td/table/tbody/tr/td[4]/table/tbody/tr[3]/td[1]/table/tbody/tr[31]/td[2]/table[1]/tbody/tr[1]/th\"))"
   ]
  },
  {
   "cell_type": "code",
   "execution_count": 28,
   "metadata": {},
   "outputs": [
    {
     "name": "stdout",
     "output_type": "stream",
     "text": [
      "12 2\n"
     ]
    }
   ],
   "source": [
    "print(rows, cols)"
   ]
  },
  {
   "cell_type": "code",
   "execution_count": 34,
   "metadata": {},
   "outputs": [],
   "source": [
    "main_list = []\n",
    "for r in range(2, rows+1):\n",
    "\n",
    "    value1 = driver.find_element_by_xpath(\"/html/body/table/tbody/tr[5]/td/table/tbody/tr/td[4]/table/tbody/tr[3]/td[1]/table/tbody/tr[31]/td[2]/table[1]/tbody/tr[\"+str(r)+\"]/td\").text\n",
    "\n",
    "    value2 = driver.find_element_by_xpath(\"/html/body/table/tbody/tr[5]/td/table/tbody/tr/td[4]/table/tbody/tr[3]/td[1]/table/tbody/tr[31]/td[2]/table[1]/tbody/tr[\"+str(r)+\"]/th\").text\n",
    "    \n",
    "    main_list.append([value2, value1])"
   ]
  },
  {
   "cell_type": "code",
   "execution_count": 35,
   "metadata": {},
   "outputs": [
    {
     "data": {
      "text/plain": [
       "[['AK', 'Alaska'],\n",
       " ['CAN', 'Canada'],\n",
       " ['GL', 'Greenland (Denmark)'],\n",
       " ['HI', 'Hawaii'],\n",
       " ['L48', 'Lower 48 States'],\n",
       " ['NA',\n",
       "  'North America (only non-vascular plants and lichens have Native Status given at this level'],\n",
       " ['NAV',\n",
       "  'Navassa Island (the sole Caribbean member of the U.S. Minor Outlying Islands)'],\n",
       " ['PB', 'Pacific Basin excluding Hawaii'],\n",
       " ['PR', 'Puerto Rico'],\n",
       " ['SPM', 'St. Pierre and Miquelon (France)'],\n",
       " ['VI', 'U.S. Virgin Islands']]"
      ]
     },
     "execution_count": 35,
     "metadata": {},
     "output_type": "execute_result"
    }
   ],
   "source": [
    "main_list"
   ]
  },
  {
   "cell_type": "code",
   "execution_count": 37,
   "metadata": {},
   "outputs": [
    {
     "data": {
      "text/plain": [
       "['Code  ', 'Native Status Jurisdiction']"
      ]
     },
     "execution_count": 37,
     "metadata": {},
     "output_type": "execute_result"
    }
   ],
   "source": [
    "headers = []\n",
    "for c in range(1, cols+1):\n",
    "    \n",
    "    value = driver.find_element_by_xpath(\"/html/body/table/tbody/tr[5]/td/table/tbody/tr/td[4]/table/tbody/tr[3]/td[1]/table/tbody/tr[31]/td[2]/table[1]/tbody/tr[1]/th[\"+str(c)+\"]\").text\n",
    "    headers.append(value)\n",
    "headers"
   ]
  },
  {
   "cell_type": "code",
   "execution_count": 38,
   "metadata": {},
   "outputs": [],
   "source": [
    "Native_Jurisdiction = pd.DataFrame(main_list, columns = headers)\n",
    "Native_Jurisdiction.to_csv('Native_Jurisdiction.csv', index = False)"
   ]
  },
  {
   "cell_type": "markdown",
   "metadata": {},
   "source": [
    "Native Status Code Scrapping"
   ]
  },
  {
   "cell_type": "code",
   "execution_count": null,
   "metadata": {},
   "outputs": [],
   "source": [
    "/html/body/table/tbody/tr[5]/td/table/tbody/tr/td[4]/table/tbody/tr[3]/td[1]/table/tbody/tr[31]/td[2]/table[2]/tbody/tr[3]"
   ]
  },
  {
   "cell_type": "code",
   "execution_count": 40,
   "metadata": {},
   "outputs": [],
   "source": [
    "rows = len(driver.find_elements_by_xpath(\"/html/body/table/tbody/tr[5]/td/table/tbody/tr/td[4]/table/tbody/tr[3]/td[1]/table/tbody/tr[31]/td[2]/table[2]/tbody/tr\"))\n",
    "cols = len(driver.find_elements_by_xpath(\"/html/body/table/tbody/tr[5]/td/table/tbody/tr/td[4]/table/tbody/tr[3]/td[1]/table/tbody/tr[31]/td[2]/table[2]/tbody/tr[1]/th\"))"
   ]
  },
  {
   "cell_type": "code",
   "execution_count": 41,
   "metadata": {},
   "outputs": [
    {
     "name": "stdout",
     "output_type": "stream",
     "text": [
      "11 2\n"
     ]
    }
   ],
   "source": [
    "print(rows, cols)"
   ]
  },
  {
   "cell_type": "code",
   "execution_count": 44,
   "metadata": {},
   "outputs": [],
   "source": [
    "main_list = []\n",
    "for r in range(3, rows+1):\n",
    "    \n",
    "    try:\n",
    "        value1 = driver.find_element_by_xpath(\"/html/body/table/tbody/tr[5]/td/table/tbody/tr/td[4]/table/tbody/tr[3]/td[1]/table/tbody/tr[31]/td[2]/table[2]/tbody/tr[\"+str(r)+\"]/td\").text\n",
    "        value2 = driver.find_element_by_xpath(\"/html/body/table/tbody/tr[5]/td/table/tbody/tr/td[4]/table/tbody/tr[3]/td[1]/table/tbody/tr[31]/td[2]/table[2]/tbody/tr[\"+str(r)+\"]/th\").text\n",
    "    \n",
    "        main_list.append([value2, value1])\n",
    "    except:\n",
    "        pass"
   ]
  },
  {
   "cell_type": "code",
   "execution_count": 45,
   "metadata": {},
   "outputs": [
    {
     "data": {
      "text/plain": [
       "[['N', 'Native'],\n",
       " ['N?', 'Probably Native'],\n",
       " ['GP',\n",
       "  'Garden persistent - persists around gardens and old habitations, not naturalized'],\n",
       " ['GP?',\n",
       "  'Probably Garden persistent - persists around gardens and old habitations, not naturalized'],\n",
       " ['I', 'Introduced'],\n",
       " ['I?', 'Probably Introduced'],\n",
       " ['W', 'Waif - an ephemeral introduction, not persistently naturalized'],\n",
       " ['W?',\n",
       "  'Probably a Waif - an ephemeral introduction, not persistently naturalized']]"
      ]
     },
     "execution_count": 45,
     "metadata": {},
     "output_type": "execute_result"
    }
   ],
   "source": [
    "main_list"
   ]
  },
  {
   "cell_type": "code",
   "execution_count": 46,
   "metadata": {},
   "outputs": [
    {
     "data": {
      "text/plain": [
       "['Code  ', 'Native Status']"
      ]
     },
     "execution_count": 46,
     "metadata": {},
     "output_type": "execute_result"
    }
   ],
   "source": [
    "headers = []\n",
    "for c in range(1, cols+1):\n",
    "    \n",
    "    value = driver.find_element_by_xpath(\"/html/body/table/tbody/tr[5]/td/table/tbody/tr/td[4]/table/tbody/tr[3]/td[1]/table/tbody/tr[31]/td[2]/table[2]/tbody/tr[1]/th[\"+str(c)+\"]\").text\n",
    "    headers.append(value)\n",
    "headers"
   ]
  },
  {
   "cell_type": "code",
   "execution_count": 47,
   "metadata": {},
   "outputs": [],
   "source": [
    "Native_codes = pd.DataFrame(main_list, columns = headers)\n",
    "Native_codes.to_csv('Native_Codes.csv', index = False)"
   ]
  }
 ],
 "metadata": {
  "kernelspec": {
   "display_name": "Python 3",
   "language": "python",
   "name": "python3"
  },
  "language_info": {
   "codemirror_mode": {
    "name": "ipython",
    "version": 3
   },
   "file_extension": ".py",
   "mimetype": "text/x-python",
   "name": "python",
   "nbconvert_exporter": "python",
   "pygments_lexer": "ipython3",
   "version": "3.6.8"
  }
 },
 "nbformat": 4,
 "nbformat_minor": 2
}
